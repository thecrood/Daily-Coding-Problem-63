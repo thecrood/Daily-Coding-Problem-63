{
 "cells": [
  {
   "cell_type": "markdown",
   "id": "868edf23",
   "metadata": {},
   "source": [
    "# Daily Coding Problem 63"
   ]
  },
  {
   "cell_type": "raw",
   "id": "a6d31435",
   "metadata": {},
   "source": [
    "This problem was asked by Microsoft.\n",
    "\n",
    "Given a 2D matrix of characters and a target word, write a function that returns whether the word can be found in the matrix by going left-to-right, or up-to-down.\n",
    "\n",
    "For example, given the following matrix:\n",
    "\n",
    "[['F', 'A', 'C', 'I'],\n",
    " ['O', 'B', 'Q', 'P'],\n",
    " ['A', 'N', 'O', 'B'],\n",
    " ['M', 'A', 'S', 'S']]\n",
    " \n",
    "and the target word 'FOAM', you should return true, since it's the leftmost column. Similarly, given the target word 'MASS', you should return true, since it's the last row."
   ]
  },
  {
   "cell_type": "markdown",
   "id": "d288903c",
   "metadata": {},
   "source": [
    "# Solution\n",
    "\n",
    "if the matrix was really big, then we would be grabbing the whole row or column just to shorten it. We can improve our build_word_right and build_word_down functions a bit by just taking what we need, which is whichever is shorter between the length of the word and the end of the row or column:"
   ]
  },
  {
   "cell_type": "code",
   "execution_count": 1,
   "id": "f9208b3e",
   "metadata": {},
   "outputs": [],
   "source": [
    "def build_word_right(matrix, r, c, length):\n",
    "    row_len = len(matrix[0])\n",
    "    return ''.join([matrix[r][i] for i in range(c, min(row_len, length))])\n",
    "\n",
    "def build_word_down(matrix, r, c, length):\n",
    "    col_len = len(matrix)\n",
    "    return ''.join([matrix[i][c] for i in range(r, min(col_len, length))])"
   ]
  },
  {
   "cell_type": "markdown",
   "id": "d408d853",
   "metadata": {},
   "source": [
    "However, let's say our word were both really big. If we notice, when we're checking the current row or column, that the first few letters are off, then we can quit the search early.\n",
    "\n",
    "The Python built-in function zip is very handy:"
   ]
  },
  {
   "cell_type": "code",
   "execution_count": 2,
   "id": "a0dc93e4",
   "metadata": {},
   "outputs": [],
   "source": [
    "def check_word_right(matrix, r, c, word):\n",
    "    word_len = len(word)\n",
    "    row_len = len(matrix[0])\n",
    "    if word_len != row_len - c:\n",
    "        return False\n",
    "    for c1, c2 in zip(word, (matrix[r][i] for i in range(c, row_len))):\n",
    "        if c1 != c2:\n",
    "            return False\n",
    "    return True\n",
    "\n",
    "def check_word_down(matrix, r, c, word):\n",
    "    word_len = len(word)\n",
    "    col_len = len(matrix)\n",
    "    if word_len != col_len - r:\n",
    "        return False\n",
    "    for c1, c2 in zip(word, (matrix[i][c] for i in range(r, col_len))):\n",
    "        if c1 != c2:\n",
    "            return False\n",
    "    return True\n",
    "\n",
    "    return ''.join([matrix[i][c] for i in range(r, min(col_len, length))])\n",
    "\n",
    "def word_search(matrix, word):\n",
    "    for r, row in enumerate(matrix):\n",
    "        for c, val in enumerate(row):\n",
    "            if check_word_right(matrix, r, c, word):\n",
    "                return True\n",
    "            if check_word_down(matrix, r, c, word):\n",
    "                return True\n",
    "    return False"
   ]
  },
  {
   "cell_type": "code",
   "execution_count": null,
   "id": "51a5ab90",
   "metadata": {},
   "outputs": [],
   "source": []
  }
 ],
 "metadata": {
  "kernelspec": {
   "display_name": "Python 3 (ipykernel)",
   "language": "python",
   "name": "python3"
  },
  "language_info": {
   "codemirror_mode": {
    "name": "ipython",
    "version": 3
   },
   "file_extension": ".py",
   "mimetype": "text/x-python",
   "name": "python",
   "nbconvert_exporter": "python",
   "pygments_lexer": "ipython3",
   "version": "3.8.10"
  }
 },
 "nbformat": 4,
 "nbformat_minor": 5
}
